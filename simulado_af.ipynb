{
 "cells": [
  {
   "attachments": {},
   "cell_type": "markdown",
   "metadata": {},
   "source": [
    "# Exercício 1\n",
    "\n",
    "A matriz $X$ é:\n",
    "\n",
    "$$\n",
    "X = \\begin{bmatrix} 1.5 & -1 \\\\ 0 & 0.5 \\end{bmatrix}\n",
    "$$\n",
    "\n",
    "O vetor-coluna $v$ é:\n",
    "$$\n",
    "v = \\begin{bmatrix} 1 \\\\ 1 \\end{bmatrix}\n",
    "$$\n",
    "\n",
    "$v$ é um auto-vetor de $X$? Justifique sua resposta!"
   ]
  },
  {
   "attachments": {},
   "cell_type": "markdown",
   "metadata": {},
   "source": [
    "### Explicação\n",
    "\n",
    "Autovetores são vetores que, quando multiplicados por uma matriz, resultam em um múltiplo do próprio vetor.\n",
    "\n",
    "Desta maneira, para verificar se $v$ é um autovetor de $X$, basta multiplicar $X$ por $v$ e verificar se o resultado é um múltiplo de $v$.\n",
    "Neste caso, o resultado desta multiplicação é:\n",
    "\n",
    "$$\n",
    "\\begin{bmatrix} 1.5 & -1 \\\\ 0 & 0.5 \\end{bmatrix} \\begin{bmatrix} 1 \\\\ 1 \\end{bmatrix} = \\begin{bmatrix} 0.5 \\\\ 0.5 \\end{bmatrix}\n",
    "$$\n",
    "\n",
    "Logo, nota-se que o resultado (múltiplo do próprio autovetor) é um múltiplo de $v$, portanto, $v$ é um autovetor de $X$."
   ]
  },
  {
   "cell_type": "code",
   "execution_count": 14,
   "metadata": {},
   "outputs": [
    {
     "name": "stdout",
     "output_type": "stream",
     "text": [
      "[0.5 0.5]\n"
     ]
    }
   ],
   "source": [
    "import numpy as np\n",
    "\n",
    "x = np.array([[1.5, -1], [0, 0.5]])\n",
    "v = np.array([1,1])\n",
    "\n",
    "print(x @ v)"
   ]
  },
  {
   "cell_type": "code",
   "execution_count": 1,
   "metadata": {},
   "outputs": [
    {
     "name": "stdout",
     "output_type": "stream",
     "text": [
      "[[ 1.5 -1. ]\n",
      " [ 0.   0.5]]\n",
      "[1.5 0.5]\n",
      "[[1.         0.70710678]\n",
      " [0.         0.70710678]]\n",
      "[[0.5]\n",
      " [0.5]]\n"
     ]
    }
   ],
   "source": [
    "import numpy as np\n",
    "P = np.array([[1, 0], [1, 1]]).T\n",
    "Q = np.diag([1.5, 0.5])\n",
    "X = P @ Q @ np.linalg.inv(P)\n",
    "print(X)\n",
    "v, w = np.linalg.eig(X)\n",
    "print(v)\n",
    "print(w)\n",
    "\n",
    "V = np.array([[1, 1]]).T\n",
    "print(X @ V)"
   ]
  },
  {
   "attachments": {},
   "cell_type": "markdown",
   "metadata": {},
   "source": [
    "# Exercício 2\n",
    "\n",
    "Analise o código abaixo. \n",
    "\n",
    "Por que o terceiro painel mostra uma imagem igual à do primeiro painel?"
   ]
  },
  {
   "cell_type": "code",
   "execution_count": 20,
   "metadata": {},
   "outputs": [
    {
     "name": "stdout",
     "output_type": "stream",
     "text": [
      "[[255. 255. 255. ... 255. 255. 255.]\n",
      " [255. 255. 255. ... 255. 255. 255.]\n",
      " [255. 255. 255. ... 255. 255. 255.]\n",
      " ...\n",
      " [255. 255. 255. ... 255. 255. 255.]\n",
      " [255. 255. 255. ... 255. 255. 255.]\n",
      " [255. 255. 255. ... 255. 255. 255.]]\n",
      "2500\n",
      "[[-0.84704432  0.58955808 -1.12683238 ...  1.83492148  0.33302232\n",
      "  -0.73601349]\n",
      " [-1.79964586 -0.65195047  0.31586018 ...  0.16754888 -0.14517175\n",
      "  -0.57376516]\n",
      " [ 0.05205781  2.02122199  1.76954626 ... -0.310657    0.46918089\n",
      "   1.3263703 ]\n",
      " ...\n",
      " [-1.24751757  0.5562948  -0.2251645  ...  0.77083767  0.20520075\n",
      "  -0.91959307]\n",
      " [-0.98358148  0.83419054  0.93172919 ...  1.37369086 -0.40183752\n",
      "   0.37330297]\n",
      " [ 0.82929651 -0.58438606 -0.35809083 ... -0.36485367  1.59061939\n",
      "   0.51205418]]\n"
     ]
    }
   ],
   "source": [
    "import matplotlib.image as mpimg\n",
    "import matplotlib.pyplot as plt\n",
    "import numpy as np\n",
    "\n",
    "# Carregando imagem inicial\n",
    "A = mpimg.imread(\"smile.jpg\").mean(axis=2) # Convertendo para preto e branco\n",
    "\n",
    "# Construindo matriz de recuperacao\n",
    "N = A.shape[0] * A.shape[1]\n",
    "P = np.random.randn(N, N)\n",
    "P[:,0] = A.reshape( (-1,) )\n",
    "Q = np.ones(N) * 0.9\n",
    "Q[0] = 1\n",
    "Q = np.diag(Q)\n",
    "X = P @ Q @ np.linalg.inv(P)\n",
    "\n",
    "# Criando imagem puramente ruidosa\n",
    "B = np.random.random(A.shape)\n",
    "\n",
    "# Aplicando matriz de recuperacao\n",
    "C = B.reshape( (-1, 1) )\n",
    "for _ in range(100):\n",
    "    C = X @ C\n",
    "C = C.reshape(A.shape)\n",
    "\n",
    "# Plotando imagem inicial, ruidosa e recuperada\n",
    "plt.figure()\n",
    "plt.subplot(1,3,1)\n",
    "plt.imshow(A, cmap='gray')\n",
    "plt.title('Original')\n",
    "plt.subplot(1,3,2)\n",
    "plt.imshow(B, cmap='gray')\n",
    "plt.title('Entrada')\n",
    "plt.subplot(1,3,3)\n",
    "plt.imshow(C, cmap='gray')\n",
    "plt.title('Recuperada')\n",
    "plt.show()"
   ]
  },
  {
   "attachments": {},
   "cell_type": "markdown",
   "metadata": {},
   "source": [
    "# Exercício 3\n",
    "\n",
    "O código abaixo busca contar palavras únicas em um texto (o texto, neste caso, é o clássico livro \"Moby Dick\"). Contar palavras únicas significa contar quantas palavras diferentes existem em um texto - por exemplo, \"ESTE TEXTO É UM TESTE\" tem 5 palavras únicas, ao passo que \"ESTE TEXTO É UM TEXTO\" tem 4 palavras únicas.\n",
    "\n",
    "A maneira que a função funciona é manter uma lista com todas as palavras que já foram vistas. Daí, para cada nova palavra, verificamos se ela já existe na nossa lista. Caso não exista, adicionamos a palavra, e, ao fim do processo, retornamos o tamanho dessa lista de palavras já vistas.\n",
    "\n",
    "O problema do código é que verificar se uma palavra está em uma lista envolve varrer a lista inteira, o que, para um texto de $N$ palavras, pode levar $N$ iterações. Como fazemos isso $N$ vezes (uma para cada palavra do texto), então temos um algoritmo que executa em tempo quadrático, isto é, $O(N^2)$.\n",
    "\n",
    "Como o tempo de execução do algoritmo cresce muito rapidamente com o aumento do número de palavras do texto, demora muito para contar palavras únicas no texto inteiro de Moby Dick. Porém, podemos medir o tempo de execução para apenas as primeiras palavras do texto.\n",
    "\n",
    "Como sabemos que o tempo $t$ de execução do algoritmo para $N$ palavras é um polinômio de segundo grau, então:\n",
    "\n",
    "$\n",
    "t = A N^2 + BN + C,\n",
    "$\n",
    "\n",
    "use os dados da execução do teste abaixo no seu computador para fazer uma regressão usando autograd, encontre $A$, $B$ e $C$, e estime quanto tempo levaria para este algoritmo contar as palavras de todo o texto de Moby Dick."
   ]
  },
  {
   "cell_type": "code",
   "execution_count": 39,
   "metadata": {},
   "outputs": [
    {
     "name": "stderr",
     "output_type": "stream",
     "text": [
      "100%|██████████| 27/27 [00:05<00:00,  5.37it/s]\n"
     ]
    },
    {
     "data": {
      "image/png": "[encoded data removed]",
      "text/plain": [
       "<Figure size 640x480 with 1 Axes>"
      ]
     },
     "metadata": {},
     "output_type": "display_data"
    }
   ],
   "source": [
    "import urllib.request\n",
    "import time\n",
    "import matplotlib.pyplot as plt\n",
    "from tqdm import tqdm\n",
    "\n",
    "url = 'https://www.gutenberg.org/files/2701/2701-0.txt'\n",
    "data = urllib.request.urlopen(url).read().decode('utf-8')\n",
    "words = data.split()\n",
    "\n",
    "def contar_palavras_unicas(lista_de_palavras):\n",
    "    ja_contei = []\n",
    "    for palavra in lista_de_palavras:\n",
    "        if palavra not in ja_contei:\n",
    "            ja_contei.append(palavra)\n",
    "    return len(ja_contei)\n",
    "\n",
    "lista_N = []\n",
    "lista_t = []\n",
    "for N in tqdm(range(100, int(len(words)/8), 1000)):\n",
    "    t0 = time.time()\n",
    "    contar_palavras_unicas(words[0:N])\n",
    "    t1 = time.time()\n",
    "    t = t1-t0\n",
    "    lista_N.append(N)\n",
    "    lista_t.append(t)\n",
    "\n",
    "plt.figure()\n",
    "plt.scatter(lista_N, lista_t)\n",
    "plt.show()\n"
   ]
  },
  {
   "cell_type": "code",
   "execution_count": 44,
   "metadata": {},
   "outputs": [
    {
     "data": {
      "image/png": "[encoded data removed]",
      "text/plain": [
       "<Figure size 640x480 with 1 Axes>"
      ]
     },
     "metadata": {},
     "output_type": "display_data"
    },
    {
     "name": "stdout",
     "output_type": "stream",
     "text": [
      "7.226729396011339e-10 1.000017193268935e-08 2.2094471540306463e-17\n"
     ]
    }
   ],
   "source": [
    "import autograd.numpy as np_\n",
    "from autograd import grad\n",
    "import matplotlib.pyplot as plt\n",
    "\n",
    "erros = []\n",
    "\n",
    "def erro(parametros):\n",
    "    a,b,c,n,t_medido = parametros\n",
    "    t = a*(n**2) + b*n + c\n",
    "    return np_.mean((t - t_medido)**2)\n",
    "\n",
    "n = np.array(lista_N).astype(float)\n",
    "t = np.array(lista_t).astype(float)\n",
    "\n",
    "A,B,C = 10**-10, 10**-8, 10**-18\n",
    "\n",
    "alpha = 10**-17\n",
    "\n",
    "g = grad(erro)\n",
    "\n",
    "for _ in range(100):\n",
    "    da, db, dc, dn, dt = g((A,B,C,n,t))\n",
    "    A -= alpha * da\n",
    "    B -= alpha * db\n",
    "    C -= alpha * dc\n",
    "    erros.append(erro((A,B,C,n,t)))\n",
    "\n",
    "plt.figure()\n",
    "plt.plot(erros)\n",
    "plt.show()\n",
    "\n",
    "print(A,B,C)"
   ]
  },
  {
   "cell_type": "code",
   "execution_count": 43,
   "metadata": {},
   "outputs": [
    {
     "data": {
      "image/png": "[encoded data removed]",
      "text/plain": [
       "<Figure size 640x480 with 1 Axes>"
      ]
     },
     "metadata": {},
     "output_type": "display_data"
    }
   ],
   "source": [
    "plt.figure()\n",
    "plt.scatter(n, t)\n",
    "plt.plot(n, A*(n**2) + B*n + C)\n",
    "plt.show()"
   ]
  },
  {
   "cell_type": "code",
   "execution_count": 49,
   "metadata": {},
   "outputs": [
    {
     "name": "stdout",
     "output_type": "stream",
     "text": [
      "Tempo para ler:  33.67674223315583  segundos\n"
     ]
    }
   ],
   "source": [
    "n = len(words)\n",
    "\n",
    "t = A*(n**2) + B*n + C\n",
    "print(\"Tempo para ler: \", t, \" segundos\")"
   ]
  },
  {
   "attachments": {},
   "cell_type": "markdown",
   "metadata": {},
   "source": [
    "# Exercício 4\n",
    "\n",
    "Um algoritmo promete comprimir a palavra `ABACATEIRO` em apenas 10 bits. Esse algoritmo é:\n",
    "\n",
    "1. Mais, igualmente ou menos eficaz que o código de Huffman?\n",
    "1. Possível ou impossível de acordo com o limite teórico dado pela entropia?"
   ]
  },
  {
   "attachments": {},
   "cell_type": "markdown",
   "metadata": {},
   "source": [
    "1. Ele é mais eficaz que o código de Huffman, pois este precisa de 30 bits para comprimir a palavra \"ABACATEIRO\", enquanto que o algoritmo citado no enunciado consegue comprimir a mesma palavra em 10 bits. Logo, este algoritmo é mais eficiente que o código de Huffman."
   ]
  },
  {
   "cell_type": "code",
   "execution_count": 51,
   "metadata": {},
   "outputs": [
    {
     "name": "stdout",
     "output_type": "stream",
     "text": [
      "1.9730014063936128\n"
     ]
    }
   ],
   "source": [
    "import numpy as np\n",
    "import scipy.stats as stats\n",
    "\n",
    "palavra = \"ABACATEIRO\"\n",
    "probs = np.array(  [palavra.count(w) for w in set(palavra)])/len(palavra)\n",
    "E = stats.entropy(probs)\n",
    "print(E)"
   ]
  },
  {
   "cell_type": "code",
   "execution_count": null,
   "metadata": {},
   "outputs": [],
   "source": []
  }
 ],
 "metadata": {
  "kernelspec": {
   "display_name": "math",
   "language": "python",
   "name": "python3"
  },
  "language_info": {
   "codemirror_mode": {
    "name": "ipython",
    "version": 3
   },
   "file_extension": ".py",
   "mimetype": "text/x-python",
   "name": "python",
   "nbconvert_exporter": "python",
   "pygments_lexer": "ipython3",
   "version": "3.11.1"
  },
  "orig_nbformat": 4
 },
 "nbformat": 4,
 "nbformat_minor": 2
}
